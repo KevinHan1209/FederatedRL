{
 "cells": [
  {
   "cell_type": "code",
   "execution_count": 1,
   "metadata": {},
   "outputs": [
    {
     "name": "stderr",
     "output_type": "stream",
     "text": [
      "pybullet build time: Jun 24 2024 15:23:59\n"
     ]
    }
   ],
   "source": [
    "import os\n",
    "import time\n",
    "from datetime import datetime\n",
    "import argparse\n",
    "import gymnasium as gym\n",
    "import numpy as np\n",
    "import torch as th\n",
    "import pandas as pd\n",
    "import csv\n",
    "\n",
    "from stable_baselines3 import PPO,SAC,TD3\n",
    "from stable_baselines3.common.env_util import make_vec_env\n",
    "from stable_baselines3.common.callbacks import EvalCallback, StopTrainingOnRewardThreshold\n",
    "from stable_baselines3.common.evaluation import evaluate_policy\n",
    "\n",
    "from gym_pybullet_drones.utils.Logger import Logger\n",
    "from gym_pybullet_drones.envs.HoverAviary import HoverAviary\n",
    "from gym_pybullet_drones.envs.MultiHoverAviary import MultiHoverAviary\n",
    "from gym_pybullet_drones.utils.utils import sync, str2bool\n",
    "from gym_pybullet_drones.utils.enums import ObservationType, ActionType, Physics\n",
    "\n",
    "from policies import GaussianMLPPolicy\n",
    "#from server import Federated_RL\n",
    "\n",
    "DEFAULT_GUI = True\n",
    "DEFAULT_RECORD_VIDEO = True\n",
    "DEFAULT_OUTPUT_FOLDER = 'results'\n",
    "DEFAULT_COLAB = False\n",
    "DEFAULT_DYNAMICS = Physics('pyb') # pyb: Pybullet dynamics; dyn: Explicit Dynamics specified in BaseAviary.py\n",
    "DEFAULT_WIND = np.array([0, 0.05, 0]) # units are in induced newtons\n",
    "DEFAULT_OBS = ObservationType('kin') # 'kin' or 'rgb'\n",
    "DEFAULT_ACT = ActionType('one_d_rpm') # 'rpm' or 'pid' or 'vel' or 'one_d_rpm' or 'one_d_pid'\n",
    "DEFAULT_AGENTS = 4\n",
    "DEFAULT_MA = False\n",
    "DEFAULT_MASS = 0.037 # Actual default is 0.027\n",
    "\n",
    "DR = True\n",
    "MASS_RANGE = [0.027, 0.042] # Maximum recommended payload is 15g\n",
    "WIND_RANGE = 0.005 # Inspired by literature\n",
    "\n",
    "# Maintain consistent network structures\n",
    "policy_kwargs = dict(activation_fn=th.nn.Tanh,\n",
    "                     net_arch=dict(pi=[512, 512, 256, 128], qf=[32, 32]))"
   ]
  },
  {
   "cell_type": "code",
   "execution_count": 2,
   "metadata": {},
   "outputs": [
    {
     "data": {
      "text/plain": [
       "'\\n    #### Print training progression ############################\\n    with np.load(filename+\\'/evaluations.npz\\') as data:\\n        for j in range(data[\\'timesteps\\'].shape[0]):\\n            print(str(data[\\'timesteps\\'][j])+\",\"+str(data[\\'results\\'][j][0]))\\n            '"
      ]
     },
     "execution_count": 2,
     "metadata": {},
     "output_type": "execute_result"
    }
   ],
   "source": [
    "def train(multiagent=DEFAULT_MA, output_folder=DEFAULT_OUTPUT_FOLDER, gui=DEFAULT_GUI, plot=True, colab=DEFAULT_COLAB, record_video=DEFAULT_RECORD_VIDEO, local=True):\n",
    "    filename = 'TD3_test_run'\n",
    "    if not os.path.exists(filename):\n",
    "        os.makedirs(filename+'/')\n",
    "\n",
    "    if not multiagent:\n",
    "        train_env = make_vec_env(HoverAviary,\n",
    "                                 env_kwargs=dict(obs=DEFAULT_OBS, act=DEFAULT_ACT),\n",
    "                                 n_envs=1,\n",
    "                                 seed=0\n",
    "                                 )\n",
    "        eval_env = HoverAviary(obs=DEFAULT_OBS, act=DEFAULT_ACT)\n",
    "    else:\n",
    "        train_env = make_vec_env(MultiHoverAviary,\n",
    "                                 env_kwargs=dict(num_drones=DEFAULT_AGENTS, obs=DEFAULT_OBS, act=DEFAULT_ACT),\n",
    "                                 n_envs=1,\n",
    "                                 seed=0\n",
    "                                 )\n",
    "        eval_env = MultiHoverAviary(num_drones=DEFAULT_AGENTS, obs=DEFAULT_OBS, act=DEFAULT_ACT)\n",
    "\n",
    "    #### Check the environment's spaces ########################\n",
    "    print('[INFO] Action space:', train_env.action_space)\n",
    "    print('[INFO] Observation space:', train_env.observation_space)\n",
    "\n",
    "    #### Train the model #######################################\n",
    "    model = TD3('MlpPolicy',\n",
    "                train_env,\n",
    "                # tensorboard_log=filename+'/tb/',\n",
    "                policy_kwargs=policy_kwargs,\n",
    "                local_iterations=2,\n",
    "                verbose=1)\n",
    "    \n",
    "        #### Target cumulative rewards (problem-dependent) ##########\n",
    "    if DEFAULT_ACT == ActionType.ONE_D_RPM:\n",
    "        target_reward = 474.15 if not multiagent else 949.5\n",
    "    else:\n",
    "        target_reward = 467. if not multiagent else 920.\n",
    "    callback_on_best = StopTrainingOnRewardThreshold(reward_threshold=target_reward,\n",
    "                                                     verbose=1)\n",
    "    eval_callback = EvalCallback(eval_env,\n",
    "                                 callback_on_new_best=callback_on_best,\n",
    "                                 verbose=1,\n",
    "                                 best_model_save_path=filename+'/',\n",
    "                                 log_path=filename+'/',\n",
    "                                 eval_freq=int(1000),\n",
    "                                 deterministic=True,\n",
    "                                 DR=DR,\n",
    "                                 mass_range=MASS_RANGE,\n",
    "                                 wind_range=WIND_RANGE,\n",
    "                                 render=False)\n",
    "    \n",
    "    model.learn(total_timesteps=int(1e7) if local else int(1e2), # shorter training in GitHub Actions pytest\n",
    "                callback=eval_callback,\n",
    "                log_interval=100)\n",
    "\n",
    "    #### Save the model ########################################\n",
    "    model.save(filename+'/final_model.zip')\n",
    "    print(filename)\n",
    "'''\n",
    "    #### Print training progression ############################\n",
    "    with np.load(filename+'/evaluations.npz') as data:\n",
    "        for j in range(data['timesteps'].shape[0]):\n",
    "            print(str(data['timesteps'][j])+\",\"+str(data['results'][j][0]))\n",
    "            '''"
   ]
  },
  {
   "cell_type": "code",
   "execution_count": 3,
   "metadata": {},
   "outputs": [
    {
     "name": "stdout",
     "output_type": "stream",
     "text": [
      "[INFO] BaseAviary.__init__() loaded parameters from the drone's .urdf:\n",
      "[INFO] m 0.027000, L 0.039700,\n",
      "[INFO] ixx 0.000014, iyy 0.000014, izz 0.000022,\n",
      "[INFO] kf 0.000000, km 0.000000,\n",
      "[INFO] t2w 2.250000, max_speed_kmh 30.000000,\n",
      "[INFO] gnd_eff_coeff 11.368590, prop_radius 0.023135,\n",
      "[INFO] drag_xy_coeff 0.000001, drag_z_coeff 0.000001,\n",
      "[INFO] dw_coeff_1 2267.180000, dw_coeff_2 0.160000, dw_coeff_3 -0.110000\n",
      "[INFO] BaseAviary.__init__() loaded parameters from the drone's .urdf:\n",
      "[INFO] m 0.027000, L 0.039700,\n",
      "[INFO] ixx 0.000014, iyy 0.000014, izz 0.000022,\n",
      "[INFO] kf 0.000000, km 0.000000,\n",
      "[INFO] t2w 2.250000, max_speed_kmh 30.000000,\n",
      "[INFO] gnd_eff_coeff 11.368590, prop_radius 0.023135,\n",
      "[INFO] drag_xy_coeff 0.000001, drag_z_coeff 0.000001,\n",
      "[INFO] dw_coeff_1 2267.180000, dw_coeff_2 0.160000, dw_coeff_3 -0.110000\n",
      "[INFO] Action space: Box(-1.0, 1.0, (1, 1), float32)\n",
      "[INFO] Observation space: Box([[-inf -inf   0. -inf -inf -inf -inf -inf -inf -inf -inf -inf  -1.  -1.\n",
      "   -1.  -1.  -1.  -1.  -1.  -1.  -1.  -1.  -1.  -1.  -1.  -1.  -1.]], [[inf inf inf inf inf inf inf inf inf inf inf inf  1.  1.  1.  1.  1.  1.\n",
      "   1.  1.  1.  1.  1.  1.  1.  1.  1.]], (1, 27), float32)\n",
      "Using cpu device\n"
     ]
    },
    {
     "name": "stderr",
     "output_type": "stream",
     "text": [
      "/Users/kevinhan/opt/anaconda3/envs/drones/lib/python3.12/site-packages/gymnasium/spaces/box.py:130: UserWarning: \u001b[33mWARN: Box bound precision lowered by casting to float32\u001b[0m\n",
      "  gym.logger.warn(f\"Box bound precision lowered by casting to {self.dtype}\")\n"
     ]
    },
    {
     "name": "stdout",
     "output_type": "stream",
     "text": [
      "[DR] Parameters for next episode: Mass 0.0397575567700256, Wind [0.0001946  0.002788   0.00164111]\n",
      "[DR] Parameters for next episode: Mass 0.03608129981558965, Wind [0.00024259 0.00471997 0.00251289]\n",
      "[DR] Parameters for next episode: Mass 0.029108596936224092, Wind [0.0029434  0.00206453 0.00397356]\n",
      "[DR] Parameters for next episode: Mass 0.031680063916576, Wind [0.00028374 0.00191036 0.00125229]\n",
      "[DR] Parameters for next episode: Mass 0.028723782937018643, Wind [0.00291476 0.00287723 0.00380578]\n",
      "[DR] Parameters for next episode: Mass 0.03135578325620557, Wind [0.00215136 0.00351914 0.00037614]\n",
      "[DR] Parameters for next episode: Mass 0.03676755908979388, Wind [0.00166258 0.00053949 0.00359754]\n",
      "[DR] Parameters for next episode: Mass 0.040345952066650606, Wind [0.00456268 0.00058261 0.00236219]\n",
      "[DR] Parameters for next episode: Mass 0.03152885531613361, Wind [0.00110908 0.00071049 0.00363601]\n",
      "[DR] Parameters for next episode: Mass 0.03124409050114929, Wind [0.00319097 0.00148906 0.00197793]\n",
      "[DR] Parameters for next episode: Mass 0.038011062835219156, Wind [0.00284081 0.00194145 0.00423154]\n",
      "[DR] Parameters for next episode: Mass 0.03836031777627036, Wind [0.00150696 0.00368266 0.0016093 ]\n",
      "[DR] Parameters for next episode: Mass 0.040759202143540514, Wind [0.00069364 0.00254435 0.00233816]\n",
      "[DR] Parameters for next episode: Mass 0.028211492152601665, Wind [0.00245037 0.0022172  0.00161479]\n",
      "[DR] Parameters for next episode: Mass 0.0313867350904575, Wind [0.00397895 0.00423221 0.00289182]\n",
      "[DR] Parameters for next episode: Mass 0.03495275115949932, Wind [0.00104716 0.00238637 0.0004432 ]\n",
      "[DR] Parameters for next episode: Mass 0.035051021081604475, Wind [0.00167324 0.0042911  0.00267768]\n",
      "[DR] Parameters for next episode: Mass 0.03523188129283153, Wind [0.00045345 0.00230118 0.00379096]\n",
      "[DR] Parameters for next episode: Mass 0.03623606258390913, Wind [8.70545296e-04 7.59020031e-05 4.01933585e-03]\n",
      "[DR] Parameters for next episode: Mass 0.03263274833220122, Wind [0.00152395 0.00119003 0.00241793]\n",
      "[DR] Parameters for next episode: Mass 0.029285632368848426, Wind [0.00130325 0.00422329 0.00328449]\n",
      "[DR] Parameters for next episode: Mass 0.030081789830826877, Wind [0.00309823 0.00151179 0.00332768]\n",
      "[DR] Parameters for next episode: Mass 0.030028007992948212, Wind [0.002295   0.00120081 0.00098304]\n",
      "[DR] Parameters for next episode: Mass 0.02859432347369553, Wind [0.00361053 0.00266632 0.00052993]\n",
      "[DR] Parameters for next episode: Mass 0.03505996225099852, Wind [0.00210893 0.00226658 0.00048857]\n",
      "[DR] Parameters for next episode: Mass 0.03613870519794113, Wind [0.00245384 0.00188589 0.00324327]\n",
      "[DR] Parameters for next episode: Mass 0.031042534063212626, Wind [0.00337784 0.00244958 0.00390092]\n",
      "[DR] Parameters for next episode: Mass 0.030990074059460467, Wind [0.00281077 0.00328417 0.00434327]\n",
      "[DR] Parameters for next episode: Mass 0.040556181788030596, Wind [0.00308167 0.00367589 0.00288867]\n",
      "[DR] Parameters for next episode: Mass 0.0382011229079636, Wind [0.00351278 0.00469134 0.00040938]\n",
      "[DR] Parameters for next episode: Mass 0.03176844736031399, Wind [8.86474553e-05 4.53099396e-03 4.16984975e-04]\n",
      "[DR] Parameters for next episode: Mass 0.04180445524524496, Wind [0.00151722 0.00177687 0.00167564]\n",
      "[DR] Parameters for next episode: Mass 0.035330896801091374, Wind [0.00448434 0.00418604 0.00147311]\n",
      "[DR] Parameters for next episode: Mass 0.03242610640496846, Wind [0.00201413 0.0007204  0.00046233]\n",
      "[DR] Parameters for next episode: Mass 0.02944698549580048, Wind [0.00192297 0.00451711 0.00144331]\n",
      "[DR] Parameters for next episode: Mass 0.03082476607995578, Wind [0.00368344 0.00436062 0.00359842]\n",
      "[DR] Parameters for next episode: Mass 0.039235756459369775, Wind [0.002634   0.00368851 0.00160526]\n",
      "[DR] Parameters for next episode: Mass 0.03907868399486335, Wind [0.00139022 0.00240986 0.00219114]\n",
      "[DR] Parameters for next episode: Mass 0.038864689570609554, Wind [0.00025771 0.00495384 0.00186554]\n",
      "[DR] Parameters for next episode: Mass 0.0410384954570368, Wind [0.00138699 0.00157611 0.00204554]\n",
      "[DR] Parameters for next episode: Mass 0.04127499630918232, Wind [0.00120856 0.00456029 0.00216246]\n",
      "[DR] Parameters for next episode: Mass 0.03201810900631028, Wind [0.00077104 0.00126718 0.00196113]\n",
      "[DR] Parameters for next episode: Mass 0.04106537804106403, Wind [0.00373837 0.00308038 0.00011269]\n",
      "[DR] Parameters for next episode: Mass 0.038338331649629416, Wind [0.00138794 0.00270814 0.00419308]\n",
      "[DR] Parameters for next episode: Mass 0.03820626495303654, Wind [0.00222225 0.00026845 0.00317955]\n",
      "[DR] Parameters for next episode: Mass 0.033412200163712255, Wind [0.00363785 0.00469099 0.00475101]\n",
      "[DR] Parameters for next episode: Mass 0.030886551098154164, Wind [0.00092208 0.00295763 0.00205012]\n",
      "[DR] Parameters for next episode: Mass 0.029320971682275092, Wind [0.00486071 0.0019625  0.00372539]\n",
      "[DR] Parameters for next episode: Mass 0.03660477716964169, Wind [0.00391122 0.00214588 0.00419006]\n",
      "[DR] Parameters for next episode: Mass 0.032955490226855906, Wind [0.0029737  0.00463265 0.00026687]\n",
      "[DR] Parameters for next episode: Mass 0.03550846517529013, Wind [0.00112952 0.0020091  0.0036648 ]\n",
      "[DR] Parameters for next episode: Mass 0.032302503594605, Wind [0.00422276 0.0029281  0.00406044]\n",
      "[DR] Parameters for next episode: Mass 0.03996376034641015, Wind [0.00232346 0.00437843 0.00081147]\n",
      "[DR] Parameters for next episode: Mass 0.03449919819577048, Wind [0.00476431 0.00153846 0.00214888]\n",
      "[DR] Parameters for next episode: Mass 0.0361703062890085, Wind [0.0014825  0.00391003 0.00174133]\n",
      "[DR] Parameters for next episode: Mass 0.037841933975875056, Wind [0.00359266 0.00324991 0.00242079]\n",
      "[DR] Parameters for next episode: Mass 0.030247369260587673, Wind [0.00339283 0.0010903  0.00466619]\n",
      "[DR] Parameters for next episode: Mass 0.040397673510217814, Wind [0.00464004 0.00474711 0.00244895]\n",
      "[DR] Parameters for next episode: Mass 0.03995620845300198, Wind [0.00109117 0.00386992 0.00350825]\n",
      "[DR] Parameters for next episode: Mass 0.038719133319502594, Wind [0.00384813 0.00426214 0.00250962]\n",
      "[DR] Parameters for next episode: Mass 0.03591515056096502, Wind [0.00192271 0.00273146 0.00476944]\n",
      "[DR] Parameters for next episode: Mass 0.03992034688332498, Wind [0.00182435 0.00022967 0.00279873]\n",
      "[DR] Parameters for next episode: Mass 0.0333992680677472, Wind [0.00219081 0.00372708 0.00477705]\n",
      "[DR] Parameters for next episode: Mass 0.040363768609154464, Wind [0.00415079 0.00366267 0.0026712 ]\n",
      "[DR] Parameters for next episode: Mass 0.030554356301038768, Wind [0.00047689 0.00122678 0.0013023 ]\n",
      "[DR] Parameters for next episode: Mass 0.027625632806856416, Wind [0.00136426 0.00304491 0.00314273]\n",
      "[DR] Parameters for next episode: Mass 0.04146562704961913, Wind [0.00026436 0.00084165 0.00481164]\n",
      "[DR] Parameters for next episode: Mass 0.032924622815913684, Wind [0.00311473 0.00083365 0.00367466]\n",
      "[DR] Parameters for next episode: Mass 0.036952037786940145, Wind [0.00233743 0.00446792 0.00365516]\n",
      "[DR] Parameters for next episode: Mass 0.041589256892355084, Wind [0.00053192 0.0040818  0.00049799]\n",
      "[DR] Parameters for next episode: Mass 0.04130142620330171, Wind [0.00164963 0.00207132 0.00403818]\n",
      "[DR] Parameters for next episode: Mass 0.03224930645171352, Wind [3.49182683e-03 1.83474181e-03 5.80235147e-05]\n",
      "[DR] Parameters for next episode: Mass 0.03247091984052057, Wind [0.00389236 0.00047036 0.00183221]\n",
      "[DR] Parameters for next episode: Mass 0.03572771983050959, Wind [0.00488443 0.0028029  0.00135841]\n",
      "[DR] Parameters for next episode: Mass 0.032524891082915126, Wind [0.00206369 0.00311455 0.00470285]\n",
      "[DR] Parameters for next episode: Mass 0.03614908218429391, Wind [0.00025438 0.00409418 0.00226292]\n",
      "[DR] Parameters for next episode: Mass 0.03516423896382858, Wind [0.00268022 0.00177653 0.00037591]\n",
      "[DR] Parameters for next episode: Mass 0.032401698234957435, Wind [0.00050012 0.00435229 0.00048247]\n",
      "[DR] Parameters for next episode: Mass 0.028312822212404682, Wind [0.00392174 0.0003214  0.00385838]\n",
      "[DR] Parameters for next episode: Mass 0.03200128184354603, Wind [0.00261664 0.00423827 0.00447004]\n",
      "[DR] Parameters for next episode: Mass 0.040408997482084756, Wind [0.00473122 0.00347305 0.00164922]\n",
      "[DR] Parameters for next episode: Mass 0.028068059080844, Wind [0.00221433 0.00260255 0.0036952 ]\n",
      "[DR] Parameters for next episode: Mass 0.033832851718717485, Wind [0.00121665 0.00219745 0.00480334]\n",
      "[DR] Parameters for next episode: Mass 0.03351240150325249, Wind [0.00072975 0.00409557 0.00083219]\n",
      "[DR] Parameters for next episode: Mass 0.04197333422033965, Wind [0.00214231 0.00429996 0.00041889]\n",
      "[DR] Parameters for next episode: Mass 0.03286893175748738, Wind [0.00214757 0.0032513  0.00407276]\n",
      "[DR] Parameters for next episode: Mass 0.0332397840024533, Wind [0.00221385 0.00401694 0.0049617 ]\n",
      "[DR] Parameters for next episode: Mass 0.04024156177357754, Wind [0.00278257 0.00449829 0.00461717]\n",
      "[DR] Parameters for next episode: Mass 0.028533037129735025, Wind [0.00054754 0.00238597 0.00220668]\n",
      "[DR] Parameters for next episode: Mass 0.03122534758731591, Wind [0.00375488 0.00087527 0.00342212]\n",
      "[DR] Parameters for next episode: Mass 0.04148319099218356, Wind [0.00310574 0.00354686 0.00478008]\n",
      "[DR] Parameters for next episode: Mass 0.03870284791507679, Wind [0.00226918 0.00263604 0.00287957]\n",
      "[DR] Parameters for next episode: Mass 0.03003831276220764, Wind [0.00160428 0.00498731 0.00279866]\n",
      "[DR] Parameters for next episode: Mass 0.032564386768864334, Wind [0.00475543 0.00035291 0.003715  ]\n",
      "[DR] Parameters for next episode: Mass 0.030959827079875556, Wind [0.00360826 0.00433197 0.00267007]\n",
      "[DR] Parameters for next episode: Mass 0.033279477771230914, Wind [0.00496827 0.00086211 0.00295398]\n",
      "[DR] Parameters for next episode: Mass 0.04036651515115411, Wind [0.00066983 0.00106931 0.00324981]\n",
      "[DR] Parameters for next episode: Mass 0.029479681683991954, Wind [2.11256619e-05 5.53300364e-04 1.17010873e-03]\n",
      "[DR] Parameters for next episode: Mass 0.03376944984464113, Wind [0.00453219 0.00362698 0.00082131]\n",
      "[DR] Parameters for next episode: Mass 0.04126998254441346, Wind [0.00324048 0.00424639 0.00439067]\n",
      "TD3_test_run\n"
     ]
    }
   ],
   "source": [
    "train()"
   ]
  },
  {
   "cell_type": "code",
   "execution_count": 23,
   "metadata": {},
   "outputs": [],
   "source": [
    "model = SAC.load('/Users/kevinhan/opt/anaconda3/envs/drones/lib/python3.12/site-packages/Federated_RL/SAC_test_run/final_model.zip')"
   ]
  },
  {
   "cell_type": "code",
   "execution_count": 11,
   "metadata": {},
   "outputs": [
    {
     "name": "stdout",
     "output_type": "stream",
     "text": [
      "log_std: torch.Size([1])\n",
      "mlp_extractor.policy_net.0.weight: torch.Size([512, 27])\n",
      "mlp_extractor.policy_net.0.bias: torch.Size([512])\n",
      "mlp_extractor.policy_net.2.weight: torch.Size([512, 512])\n",
      "mlp_extractor.policy_net.2.bias: torch.Size([512])\n",
      "mlp_extractor.policy_net.4.weight: torch.Size([256, 512])\n",
      "mlp_extractor.policy_net.4.bias: torch.Size([256])\n",
      "mlp_extractor.policy_net.6.weight: torch.Size([128, 256])\n",
      "mlp_extractor.policy_net.6.bias: torch.Size([128])\n",
      "mlp_extractor.value_net.0.weight: torch.Size([32, 27])\n",
      "mlp_extractor.value_net.0.bias: torch.Size([32])\n",
      "mlp_extractor.value_net.2.weight: torch.Size([32, 32])\n",
      "mlp_extractor.value_net.2.bias: torch.Size([32])\n",
      "action_net.weight: torch.Size([1, 128])\n",
      "action_net.bias: torch.Size([1])\n",
      "value_net.weight: torch.Size([1, 32])\n",
      "value_net.bias: torch.Size([1])\n"
     ]
    }
   ],
   "source": [
    "for i in model.get_parameters()['policy']:\n",
    "    print(i + ': ' + str(model.get_parameters()['policy'][i].shape))"
   ]
  },
  {
   "cell_type": "code",
   "execution_count": 12,
   "metadata": {},
   "outputs": [
    {
     "name": "stdout",
     "output_type": "stream",
     "text": [
      "tensor([0.0088])\n"
     ]
    }
   ],
   "source": [
    "print(model.get_parameters()['policy']['action_net.bias'])"
   ]
  },
  {
   "cell_type": "code",
   "execution_count": null,
   "metadata": {},
   "outputs": [],
   "source": []
  }
 ],
 "metadata": {
  "kernelspec": {
   "display_name": "drones",
   "language": "python",
   "name": "python3"
  },
  "language_info": {
   "codemirror_mode": {
    "name": "ipython",
    "version": 3
   },
   "file_extension": ".py",
   "mimetype": "text/x-python",
   "name": "python",
   "nbconvert_exporter": "python",
   "pygments_lexer": "ipython3",
   "version": "3.12.4"
  }
 },
 "nbformat": 4,
 "nbformat_minor": 2
}
